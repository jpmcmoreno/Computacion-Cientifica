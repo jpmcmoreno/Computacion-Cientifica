{
  "nbformat": 4,
  "nbformat_minor": 0,
  "metadata": {
    "colab": {
      "name": "01 Python científico.ipynb",
      "provenance": [],
      "include_colab_link": true
    },
    "kernelspec": {
      "name": "python3",
      "display_name": "Python 3"
    },
    "language_info": {
      "name": "python"
    }
  },
  "cells": [
    {
      "cell_type": "markdown",
      "metadata": {
        "id": "view-in-github",
        "colab_type": "text"
      },
      "source": [
        "<a href=\"https://colab.research.google.com/github/jpmcmoreno/Computacion-Cientifica/blob/main/01_Python_cienti%CC%81fico.ipynb\" target=\"_parent\"><img src=\"https://colab.research.google.com/assets/colab-badge.svg\" alt=\"Open In Colab\"/></a>"
      ]
    },
    {
      "cell_type": "code",
      "metadata": {
        "id": "43gLN2EHfcj4"
      },
      "source": [
        "z = 6+7j"
      ],
      "execution_count": null,
      "outputs": []
    },
    {
      "cell_type": "code",
      "metadata": {
        "id": "xLgbc6h9gafQ"
      },
      "source": [
        "w = -4-3j"
      ],
      "execution_count": null,
      "outputs": []
    },
    {
      "cell_type": "code",
      "metadata": {
        "colab": {
          "base_uri": "https://localhost:8080/"
        },
        "id": "Pi2Nn30Bgcii",
        "outputId": "9aaacf9e-58ab-465b-ca5d-5623af7cf03f"
      },
      "source": [
        "z+w"
      ],
      "execution_count": null,
      "outputs": [
        {
          "output_type": "execute_result",
          "data": {
            "text/plain": [
              "(2+4j)"
            ]
          },
          "metadata": {},
          "execution_count": 3
        }
      ]
    },
    {
      "cell_type": "code",
      "metadata": {
        "colab": {
          "base_uri": "https://localhost:8080/"
        },
        "id": "cAZ1Vuxjgesq",
        "outputId": "ddfae6c0-f033-4fd8-c282-62c0f2551203"
      },
      "source": [
        "z-w"
      ],
      "execution_count": null,
      "outputs": [
        {
          "output_type": "execute_result",
          "data": {
            "text/plain": [
              "(10+10j)"
            ]
          },
          "metadata": {},
          "execution_count": 4
        }
      ]
    },
    {
      "cell_type": "code",
      "metadata": {
        "colab": {
          "base_uri": "https://localhost:8080/"
        },
        "id": "Nr12V6WZgfyf",
        "outputId": "02954abd-fb4c-4f2f-9700-c33d19b59c55"
      },
      "source": [
        "z*w"
      ],
      "execution_count": null,
      "outputs": [
        {
          "output_type": "execute_result",
          "data": {
            "text/plain": [
              "(-3-46j)"
            ]
          },
          "metadata": {},
          "execution_count": 5
        }
      ]
    },
    {
      "cell_type": "code",
      "metadata": {
        "colab": {
          "base_uri": "https://localhost:8080/"
        },
        "id": "rwzZLV9Kgg9o",
        "outputId": "c67a662e-be37-423d-e013-a72be7e35a8d"
      },
      "source": [
        "z/w"
      ],
      "execution_count": null,
      "outputs": [
        {
          "output_type": "execute_result",
          "data": {
            "text/plain": [
              "(-1.8-0.4j)"
            ]
          },
          "metadata": {},
          "execution_count": 6
        }
      ]
    },
    {
      "cell_type": "code",
      "metadata": {
        "id": "O1cFz-y3gsyw"
      },
      "source": [
        "micadena = \"esta es una cadena de texto...\""
      ],
      "execution_count": null,
      "outputs": []
    },
    {
      "cell_type": "code",
      "metadata": {
        "colab": {
          "base_uri": "https://localhost:8080/"
        },
        "id": "taWn0LEpg3s4",
        "outputId": "12eae260-ceb8-4e34-ca1c-8c181702c25d"
      },
      "source": [
        "print(micadena)"
      ],
      "execution_count": null,
      "outputs": [
        {
          "output_type": "stream",
          "name": "stdout",
          "text": [
            "esta es una cadena de texto...\n"
          ]
        }
      ]
    },
    {
      "cell_type": "code",
      "metadata": {
        "id": "VvKttTibg6hu"
      },
      "source": [
        "num1 = 7.8\n",
        "num2 = 18"
      ],
      "execution_count": null,
      "outputs": []
    },
    {
      "cell_type": "code",
      "metadata": {
        "colab": {
          "base_uri": "https://localhost:8080/"
        },
        "id": "rfPlBGIqg-x2",
        "outputId": "20f2c5bb-f005-41ad-ef06-c6c8aae1bafd"
      },
      "source": [
        "print(\"%.3f\" % (num1))"
      ],
      "execution_count": null,
      "outputs": [
        {
          "output_type": "stream",
          "name": "stdout",
          "text": [
            "7.800\n"
          ]
        }
      ]
    },
    {
      "cell_type": "code",
      "metadata": {
        "colab": {
          "base_uri": "https://localhost:8080/"
        },
        "id": "s5HMEewVhFk6",
        "outputId": "1d57c2c1-e7b3-442f-c15c-413034259d80"
      },
      "source": [
        "print(\"%.6f\" % (num2))"
      ],
      "execution_count": null,
      "outputs": [
        {
          "output_type": "stream",
          "name": "stdout",
          "text": [
            "18.000000\n"
          ]
        }
      ]
    },
    {
      "cell_type": "code",
      "metadata": {
        "colab": {
          "base_uri": "https://localhost:8080/",
          "height": 36
        },
        "id": "NXCX3zmbheBN",
        "outputId": "54feeea2-1129-40e8-eee8-6b7be0186bd1"
      },
      "source": [
        "bin(156)"
      ],
      "execution_count": null,
      "outputs": [
        {
          "output_type": "execute_result",
          "data": {
            "application/vnd.google.colaboratory.intrinsic+json": {
              "type": "string"
            },
            "text/plain": [
              "'0b10011100'"
            ]
          },
          "metadata": {},
          "execution_count": 14
        }
      ]
    },
    {
      "cell_type": "code",
      "metadata": {
        "colab": {
          "base_uri": "https://localhost:8080/",
          "height": 36
        },
        "id": "i64ep-yehrbK",
        "outputId": "5342103a-92d0-436f-af7f-35362557301e"
      },
      "source": [
        "hex(156)"
      ],
      "execution_count": null,
      "outputs": [
        {
          "output_type": "execute_result",
          "data": {
            "application/vnd.google.colaboratory.intrinsic+json": {
              "type": "string"
            },
            "text/plain": [
              "'0x9c'"
            ]
          },
          "metadata": {},
          "execution_count": 17
        }
      ]
    },
    {
      "cell_type": "code",
      "metadata": {
        "colab": {
          "base_uri": "https://localhost:8080/",
          "height": 36
        },
        "id": "1e537KDqh62p",
        "outputId": "2a287b43-b7e0-48db-820c-e1af4ea63501"
      },
      "source": [
        "oct(156)"
      ],
      "execution_count": null,
      "outputs": [
        {
          "output_type": "execute_result",
          "data": {
            "application/vnd.google.colaboratory.intrinsic+json": {
              "type": "string"
            },
            "text/plain": [
              "'0o234'"
            ]
          },
          "metadata": {},
          "execution_count": 18
        }
      ]
    },
    {
      "cell_type": "code",
      "metadata": {
        "colab": {
          "base_uri": "https://localhost:8080/"
        },
        "id": "po7IAk-kkW3r",
        "outputId": "d11b0dd3-e58c-42df-c52d-a3c7905d9143"
      },
      "source": [
        "True"
      ],
      "execution_count": null,
      "outputs": [
        {
          "output_type": "execute_result",
          "data": {
            "text/plain": [
              "True"
            ]
          },
          "metadata": {},
          "execution_count": 19
        }
      ]
    },
    {
      "cell_type": "code",
      "metadata": {
        "colab": {
          "base_uri": "https://localhost:8080/"
        },
        "id": "kaD5ibfDkYOc",
        "outputId": "6dafffea-732c-4522-e144-a73bb4c35c5c"
      },
      "source": [
        "False"
      ],
      "execution_count": null,
      "outputs": [
        {
          "output_type": "execute_result",
          "data": {
            "text/plain": [
              "False"
            ]
          },
          "metadata": {},
          "execution_count": 20
        }
      ]
    },
    {
      "cell_type": "code",
      "metadata": {
        "colab": {
          "base_uri": "https://localhost:8080/"
        },
        "id": "grFxg3p8kaRt",
        "outputId": "76c2c37f-3370-42f5-8eeb-140695744e85"
      },
      "source": [
        "True and False"
      ],
      "execution_count": null,
      "outputs": [
        {
          "output_type": "execute_result",
          "data": {
            "text/plain": [
              "False"
            ]
          },
          "metadata": {},
          "execution_count": 21
        }
      ]
    },
    {
      "cell_type": "code",
      "metadata": {
        "colab": {
          "base_uri": "https://localhost:8080/"
        },
        "id": "ID_SDYUqkdMA",
        "outputId": "70098cd1-3363-44e9-89f8-9880c64ab0cd"
      },
      "source": [
        "True or False"
      ],
      "execution_count": null,
      "outputs": [
        {
          "output_type": "execute_result",
          "data": {
            "text/plain": [
              "True"
            ]
          },
          "metadata": {},
          "execution_count": 22
        }
      ]
    },
    {
      "cell_type": "markdown",
      "metadata": {
        "id": "GscRgNKDkx8U"
      },
      "source": [
        "# Colecciones\n",
        "\n",
        "## Listas"
      ]
    },
    {
      "cell_type": "code",
      "metadata": {
        "id": "ukHJNRtckxCG"
      },
      "source": [
        "lista = [3, 4, 'a', 'b', 'c', [1,2,3]]"
      ],
      "execution_count": null,
      "outputs": []
    },
    {
      "cell_type": "code",
      "metadata": {
        "id": "iU92uguApbTW"
      },
      "source": [
        "l2 = lista+lista"
      ],
      "execution_count": null,
      "outputs": []
    },
    {
      "cell_type": "code",
      "metadata": {
        "colab": {
          "base_uri": "https://localhost:8080/"
        },
        "id": "P-Yh-GwVpsHf",
        "outputId": "5577508d-a37c-435b-e0cd-d2b58b81cdfa"
      },
      "source": [
        "4*lista"
      ],
      "execution_count": null,
      "outputs": [
        {
          "output_type": "execute_result",
          "data": {
            "text/plain": [
              "[3,\n",
              " 4,\n",
              " 'a',\n",
              " 'b',\n",
              " 'c',\n",
              " [1, 2, 3],\n",
              " 3,\n",
              " 4,\n",
              " 'a',\n",
              " 'b',\n",
              " 'c',\n",
              " [1, 2, 3],\n",
              " 3,\n",
              " 4,\n",
              " 'a',\n",
              " 'b',\n",
              " 'c',\n",
              " [1, 2, 3],\n",
              " 3,\n",
              " 4,\n",
              " 'a',\n",
              " 'b',\n",
              " 'c',\n",
              " [1, 2, 3]]"
            ]
          },
          "metadata": {},
          "execution_count": 66
        }
      ]
    },
    {
      "cell_type": "code",
      "metadata": {
        "id": "nkzw_rqkneN4"
      },
      "source": [
        "lista.clear()"
      ],
      "execution_count": null,
      "outputs": []
    },
    {
      "cell_type": "code",
      "metadata": {
        "colab": {
          "base_uri": "https://localhost:8080/"
        },
        "id": "kOc43gYnljVt",
        "outputId": "9cccddc0-b25b-49fe-e361-d04daf60fd34"
      },
      "source": [
        "lista"
      ],
      "execution_count": null,
      "outputs": [
        {
          "output_type": "execute_result",
          "data": {
            "text/plain": [
              "[]"
            ]
          },
          "metadata": {},
          "execution_count": 50
        }
      ]
    },
    {
      "cell_type": "code",
      "metadata": {
        "id": "j6ROloPBllES"
      },
      "source": [
        "lista[1] = 20"
      ],
      "execution_count": null,
      "outputs": []
    },
    {
      "cell_type": "code",
      "metadata": {
        "id": "XG0YV3H_lsRm"
      },
      "source": [
        "lista.append('abc')"
      ],
      "execution_count": null,
      "outputs": []
    },
    {
      "cell_type": "code",
      "metadata": {
        "colab": {
          "base_uri": "https://localhost:8080/",
          "height": 36
        },
        "id": "WXs_rAY8lwPJ",
        "outputId": "216d9d5e-f522-455a-e4aa-78d225430a8b"
      },
      "source": [
        "lista.pop(3)"
      ],
      "execution_count": null,
      "outputs": [
        {
          "output_type": "execute_result",
          "data": {
            "application/vnd.google.colaboratory.intrinsic+json": {
              "type": "string"
            },
            "text/plain": [
              "'b'"
            ]
          },
          "metadata": {},
          "execution_count": 30
        }
      ]
    },
    {
      "cell_type": "code",
      "metadata": {
        "id": "oeSSU_RGl6JV"
      },
      "source": [
        "lista[4].append('cba')"
      ],
      "execution_count": null,
      "outputs": []
    },
    {
      "cell_type": "code",
      "metadata": {
        "id": "5FLohqIGtVMD"
      },
      "source": [
        "l3 = [x for x in range(500) if x%2==0]"
      ],
      "execution_count": null,
      "outputs": []
    },
    {
      "cell_type": "code",
      "metadata": {
        "colab": {
          "base_uri": "https://localhost:8080/"
        },
        "id": "JJN8WF4QtgHO",
        "outputId": "41107c90-e435-46ef-df95-ba83683573b2"
      },
      "source": [
        "l3"
      ],
      "execution_count": null,
      "outputs": [
        {
          "output_type": "execute_result",
          "data": {
            "text/plain": [
              "[0,\n",
              " 2,\n",
              " 4,\n",
              " 6,\n",
              " 8,\n",
              " 10,\n",
              " 12,\n",
              " 14,\n",
              " 16,\n",
              " 18,\n",
              " 20,\n",
              " 22,\n",
              " 24,\n",
              " 26,\n",
              " 28,\n",
              " 30,\n",
              " 32,\n",
              " 34,\n",
              " 36,\n",
              " 38,\n",
              " 40,\n",
              " 42,\n",
              " 44,\n",
              " 46,\n",
              " 48,\n",
              " 50,\n",
              " 52,\n",
              " 54,\n",
              " 56,\n",
              " 58,\n",
              " 60,\n",
              " 62,\n",
              " 64,\n",
              " 66,\n",
              " 68,\n",
              " 70,\n",
              " 72,\n",
              " 74,\n",
              " 76,\n",
              " 78,\n",
              " 80,\n",
              " 82,\n",
              " 84,\n",
              " 86,\n",
              " 88,\n",
              " 90,\n",
              " 92,\n",
              " 94,\n",
              " 96,\n",
              " 98,\n",
              " 100,\n",
              " 102,\n",
              " 104,\n",
              " 106,\n",
              " 108,\n",
              " 110,\n",
              " 112,\n",
              " 114,\n",
              " 116,\n",
              " 118,\n",
              " 120,\n",
              " 122,\n",
              " 124,\n",
              " 126,\n",
              " 128,\n",
              " 130,\n",
              " 132,\n",
              " 134,\n",
              " 136,\n",
              " 138,\n",
              " 140,\n",
              " 142,\n",
              " 144,\n",
              " 146,\n",
              " 148,\n",
              " 150,\n",
              " 152,\n",
              " 154,\n",
              " 156,\n",
              " 158,\n",
              " 160,\n",
              " 162,\n",
              " 164,\n",
              " 166,\n",
              " 168,\n",
              " 170,\n",
              " 172,\n",
              " 174,\n",
              " 176,\n",
              " 178,\n",
              " 180,\n",
              " 182,\n",
              " 184,\n",
              " 186,\n",
              " 188,\n",
              " 190,\n",
              " 192,\n",
              " 194,\n",
              " 196,\n",
              " 198,\n",
              " 200,\n",
              " 202,\n",
              " 204,\n",
              " 206,\n",
              " 208,\n",
              " 210,\n",
              " 212,\n",
              " 214,\n",
              " 216,\n",
              " 218,\n",
              " 220,\n",
              " 222,\n",
              " 224,\n",
              " 226,\n",
              " 228,\n",
              " 230,\n",
              " 232,\n",
              " 234,\n",
              " 236,\n",
              " 238,\n",
              " 240,\n",
              " 242,\n",
              " 244,\n",
              " 246,\n",
              " 248,\n",
              " 250,\n",
              " 252,\n",
              " 254,\n",
              " 256,\n",
              " 258,\n",
              " 260,\n",
              " 262,\n",
              " 264,\n",
              " 266,\n",
              " 268,\n",
              " 270,\n",
              " 272,\n",
              " 274,\n",
              " 276,\n",
              " 278,\n",
              " 280,\n",
              " 282,\n",
              " 284,\n",
              " 286,\n",
              " 288,\n",
              " 290,\n",
              " 292,\n",
              " 294,\n",
              " 296,\n",
              " 298,\n",
              " 300,\n",
              " 302,\n",
              " 304,\n",
              " 306,\n",
              " 308,\n",
              " 310,\n",
              " 312,\n",
              " 314,\n",
              " 316,\n",
              " 318,\n",
              " 320,\n",
              " 322,\n",
              " 324,\n",
              " 326,\n",
              " 328,\n",
              " 330,\n",
              " 332,\n",
              " 334,\n",
              " 336,\n",
              " 338,\n",
              " 340,\n",
              " 342,\n",
              " 344,\n",
              " 346,\n",
              " 348,\n",
              " 350,\n",
              " 352,\n",
              " 354,\n",
              " 356,\n",
              " 358,\n",
              " 360,\n",
              " 362,\n",
              " 364,\n",
              " 366,\n",
              " 368,\n",
              " 370,\n",
              " 372,\n",
              " 374,\n",
              " 376,\n",
              " 378,\n",
              " 380,\n",
              " 382,\n",
              " 384,\n",
              " 386,\n",
              " 388,\n",
              " 390,\n",
              " 392,\n",
              " 394,\n",
              " 396,\n",
              " 398,\n",
              " 400,\n",
              " 402,\n",
              " 404,\n",
              " 406,\n",
              " 408,\n",
              " 410,\n",
              " 412,\n",
              " 414,\n",
              " 416,\n",
              " 418,\n",
              " 420,\n",
              " 422,\n",
              " 424,\n",
              " 426,\n",
              " 428,\n",
              " 430,\n",
              " 432,\n",
              " 434,\n",
              " 436,\n",
              " 438,\n",
              " 440,\n",
              " 442,\n",
              " 444,\n",
              " 446,\n",
              " 448,\n",
              " 450,\n",
              " 452,\n",
              " 454,\n",
              " 456,\n",
              " 458,\n",
              " 460,\n",
              " 462,\n",
              " 464,\n",
              " 466,\n",
              " 468,\n",
              " 470,\n",
              " 472,\n",
              " 474,\n",
              " 476,\n",
              " 478,\n",
              " 480,\n",
              " 482,\n",
              " 484,\n",
              " 486,\n",
              " 488,\n",
              " 490,\n",
              " 492,\n",
              " 494,\n",
              " 496,\n",
              " 498]"
            ]
          },
          "metadata": {},
          "execution_count": 86
        }
      ]
    },
    {
      "cell_type": "markdown",
      "metadata": {
        "id": "1N-Ttis7mX2p"
      },
      "source": [
        "## Tuplas"
      ]
    },
    {
      "cell_type": "code",
      "metadata": {
        "id": "2uQuKMPhk21l"
      },
      "source": [
        "tupla = (1,2,3,'abc',[1,2,3], 5+8j)"
      ],
      "execution_count": null,
      "outputs": []
    },
    {
      "cell_type": "code",
      "metadata": {
        "colab": {
          "base_uri": "https://localhost:8080/"
        },
        "id": "pmdyP-mYmhdC",
        "outputId": "ef480177-7eac-4b1f-fad3-502cc2fe71af"
      },
      "source": [
        "tupla"
      ],
      "execution_count": null,
      "outputs": [
        {
          "output_type": "execute_result",
          "data": {
            "text/plain": [
              "(1, 2, 3, 'abc', [], (5+8j))"
            ]
          },
          "metadata": {},
          "execution_count": 58
        }
      ]
    },
    {
      "cell_type": "code",
      "metadata": {
        "colab": {
          "base_uri": "https://localhost:8080/"
        },
        "id": "yJUc1duRph7x",
        "outputId": "be0c3cce-238b-4cc6-f9ef-0982ed89f3c4"
      },
      "source": [
        "tupla+tupla"
      ],
      "execution_count": null,
      "outputs": [
        {
          "output_type": "execute_result",
          "data": {
            "text/plain": [
              "(1, 2, 3, 'abc', [], (5+8j), 1, 2, 3, 'abc', [], (5+8j))"
            ]
          },
          "metadata": {},
          "execution_count": 59
        }
      ]
    },
    {
      "cell_type": "code",
      "metadata": {
        "colab": {
          "base_uri": "https://localhost:8080/"
        },
        "id": "PC_yud9VqYFI",
        "outputId": "49986463-c317-4283-a78b-21d20f2fd8dc"
      },
      "source": [
        "3*tupla"
      ],
      "execution_count": null,
      "outputs": [
        {
          "output_type": "execute_result",
          "data": {
            "text/plain": [
              "(1,\n",
              " 2,\n",
              " 3,\n",
              " 'abc',\n",
              " [],\n",
              " (5+8j),\n",
              " 1,\n",
              " 2,\n",
              " 3,\n",
              " 'abc',\n",
              " [],\n",
              " (5+8j),\n",
              " 1,\n",
              " 2,\n",
              " 3,\n",
              " 'abc',\n",
              " [],\n",
              " (5+8j))"
            ]
          },
          "metadata": {},
          "execution_count": 67
        }
      ]
    },
    {
      "cell_type": "code",
      "metadata": {
        "colab": {
          "base_uri": "https://localhost:8080/",
          "height": 171
        },
        "id": "-gYyURpZmjRQ",
        "outputId": "98793af3-ca5b-4662-a6b1-64ea4982d8d1"
      },
      "source": [
        "tupla[0] = 5"
      ],
      "execution_count": null,
      "outputs": [
        {
          "output_type": "error",
          "ename": "TypeError",
          "evalue": "ignored",
          "traceback": [
            "\u001b[0;31m---------------------------------------------------------------------------\u001b[0m",
            "\u001b[0;31mTypeError\u001b[0m                                 Traceback (most recent call last)",
            "\u001b[0;32m<ipython-input-38-a2f896436084>\u001b[0m in \u001b[0;36m<module>\u001b[0;34m()\u001b[0m\n\u001b[0;32m----> 1\u001b[0;31m \u001b[0mtupla\u001b[0m\u001b[0;34m[\u001b[0m\u001b[0;36m0\u001b[0m\u001b[0;34m]\u001b[0m \u001b[0;34m=\u001b[0m \u001b[0;36m5\u001b[0m\u001b[0;34m\u001b[0m\u001b[0;34m\u001b[0m\u001b[0m\n\u001b[0m",
            "\u001b[0;31mTypeError\u001b[0m: 'tuple' object does not support item assignment"
          ]
        }
      ]
    },
    {
      "cell_type": "code",
      "metadata": {
        "colab": {
          "base_uri": "https://localhost:8080/",
          "height": 171
        },
        "id": "pZQ5DFNvmpbP",
        "outputId": "8dc007f7-616b-457b-d2c0-ef6bd0e4b574"
      },
      "source": [
        "tupla.pop(3)"
      ],
      "execution_count": null,
      "outputs": [
        {
          "output_type": "error",
          "ename": "AttributeError",
          "evalue": "ignored",
          "traceback": [
            "\u001b[0;31m---------------------------------------------------------------------------\u001b[0m",
            "\u001b[0;31mAttributeError\u001b[0m                            Traceback (most recent call last)",
            "\u001b[0;32m<ipython-input-39-7eb7bbe0ece1>\u001b[0m in \u001b[0;36m<module>\u001b[0;34m()\u001b[0m\n\u001b[0;32m----> 1\u001b[0;31m \u001b[0mtupla\u001b[0m\u001b[0;34m.\u001b[0m\u001b[0mpop\u001b[0m\u001b[0;34m(\u001b[0m\u001b[0;36m3\u001b[0m\u001b[0;34m)\u001b[0m\u001b[0;34m\u001b[0m\u001b[0;34m\u001b[0m\u001b[0m\n\u001b[0m",
            "\u001b[0;31mAttributeError\u001b[0m: 'tuple' object has no attribute 'pop'"
          ]
        }
      ]
    },
    {
      "cell_type": "code",
      "metadata": {
        "colab": {
          "base_uri": "https://localhost:8080/",
          "height": 171
        },
        "id": "u-GzfZH3myuD",
        "outputId": "817b213c-bad5-4b1d-cdf3-dccb6ed1640c"
      },
      "source": [
        "tupla.append(3)"
      ],
      "execution_count": null,
      "outputs": [
        {
          "output_type": "error",
          "ename": "AttributeError",
          "evalue": "ignored",
          "traceback": [
            "\u001b[0;31m---------------------------------------------------------------------------\u001b[0m",
            "\u001b[0;31mAttributeError\u001b[0m                            Traceback (most recent call last)",
            "\u001b[0;32m<ipython-input-40-9ece6551fe97>\u001b[0m in \u001b[0;36m<module>\u001b[0;34m()\u001b[0m\n\u001b[0;32m----> 1\u001b[0;31m \u001b[0mtupla\u001b[0m\u001b[0;34m.\u001b[0m\u001b[0mappend\u001b[0m\u001b[0;34m(\u001b[0m\u001b[0;36m3\u001b[0m\u001b[0;34m)\u001b[0m\u001b[0;34m\u001b[0m\u001b[0;34m\u001b[0m\u001b[0m\n\u001b[0m",
            "\u001b[0;31mAttributeError\u001b[0m: 'tuple' object has no attribute 'append'"
          ]
        }
      ]
    },
    {
      "cell_type": "code",
      "metadata": {
        "id": "R2aJfW77m39O"
      },
      "source": [
        "tupla[4].append('abc')"
      ],
      "execution_count": null,
      "outputs": []
    },
    {
      "cell_type": "code",
      "metadata": {
        "id": "ehzcH9a4nNP0"
      },
      "source": [
        "tupla[4].clear()"
      ],
      "execution_count": null,
      "outputs": []
    },
    {
      "cell_type": "code",
      "metadata": {
        "colab": {
          "base_uri": "https://localhost:8080/",
          "height": 171
        },
        "id": "G_AEmMDYnlgQ",
        "outputId": "84a880d5-13c4-40bd-d4f7-e29e1b71bf38"
      },
      "source": [
        "tupla[4] = 2"
      ],
      "execution_count": null,
      "outputs": [
        {
          "output_type": "error",
          "ename": "TypeError",
          "evalue": "ignored",
          "traceback": [
            "\u001b[0;31m---------------------------------------------------------------------------\u001b[0m",
            "\u001b[0;31mTypeError\u001b[0m                                 Traceback (most recent call last)",
            "\u001b[0;32m<ipython-input-52-8c3335382aeb>\u001b[0m in \u001b[0;36m<module>\u001b[0;34m()\u001b[0m\n\u001b[0;32m----> 1\u001b[0;31m \u001b[0mtupla\u001b[0m\u001b[0;34m[\u001b[0m\u001b[0;36m4\u001b[0m\u001b[0;34m]\u001b[0m \u001b[0;34m=\u001b[0m \u001b[0;36m2\u001b[0m\u001b[0;34m\u001b[0m\u001b[0;34m\u001b[0m\u001b[0m\n\u001b[0m",
            "\u001b[0;31mTypeError\u001b[0m: 'tuple' object does not support item assignment"
          ]
        }
      ]
    },
    {
      "cell_type": "code",
      "metadata": {
        "id": "x68A3jjHoJFA"
      },
      "source": [
        "tuplados = 3,4,5,6,7,'abc'"
      ],
      "execution_count": null,
      "outputs": []
    },
    {
      "cell_type": "code",
      "metadata": {
        "colab": {
          "base_uri": "https://localhost:8080/"
        },
        "id": "qLqf_qTdoMCQ",
        "outputId": "0b063851-a89d-447c-826a-d4f2613c1bfc"
      },
      "source": [
        "tuplados"
      ],
      "execution_count": null,
      "outputs": [
        {
          "output_type": "execute_result",
          "data": {
            "text/plain": [
              "(3, 4, 5, 6, 7, 'abc')"
            ]
          },
          "metadata": {},
          "execution_count": 54
        }
      ]
    },
    {
      "cell_type": "code",
      "metadata": {
        "id": "xK8DMVjTpZit"
      },
      "source": [
        "l3 = tuple(x for x in range(500) if x%2==0)"
      ],
      "execution_count": null,
      "outputs": []
    },
    {
      "cell_type": "code",
      "metadata": {
        "colab": {
          "base_uri": "https://localhost:8080/"
        },
        "id": "fRiMi6TqtuRd",
        "outputId": "5f9335a2-ec8b-482e-cdf3-4da44d66ceb8"
      },
      "source": [
        "l3"
      ],
      "execution_count": null,
      "outputs": [
        {
          "output_type": "execute_result",
          "data": {
            "text/plain": [
              "(0,\n",
              " 2,\n",
              " 4,\n",
              " 6,\n",
              " 8,\n",
              " 10,\n",
              " 12,\n",
              " 14,\n",
              " 16,\n",
              " 18,\n",
              " 20,\n",
              " 22,\n",
              " 24,\n",
              " 26,\n",
              " 28,\n",
              " 30,\n",
              " 32,\n",
              " 34,\n",
              " 36,\n",
              " 38,\n",
              " 40,\n",
              " 42,\n",
              " 44,\n",
              " 46,\n",
              " 48,\n",
              " 50,\n",
              " 52,\n",
              " 54,\n",
              " 56,\n",
              " 58,\n",
              " 60,\n",
              " 62,\n",
              " 64,\n",
              " 66,\n",
              " 68,\n",
              " 70,\n",
              " 72,\n",
              " 74,\n",
              " 76,\n",
              " 78,\n",
              " 80,\n",
              " 82,\n",
              " 84,\n",
              " 86,\n",
              " 88,\n",
              " 90,\n",
              " 92,\n",
              " 94,\n",
              " 96,\n",
              " 98,\n",
              " 100,\n",
              " 102,\n",
              " 104,\n",
              " 106,\n",
              " 108,\n",
              " 110,\n",
              " 112,\n",
              " 114,\n",
              " 116,\n",
              " 118,\n",
              " 120,\n",
              " 122,\n",
              " 124,\n",
              " 126,\n",
              " 128,\n",
              " 130,\n",
              " 132,\n",
              " 134,\n",
              " 136,\n",
              " 138,\n",
              " 140,\n",
              " 142,\n",
              " 144,\n",
              " 146,\n",
              " 148,\n",
              " 150,\n",
              " 152,\n",
              " 154,\n",
              " 156,\n",
              " 158,\n",
              " 160,\n",
              " 162,\n",
              " 164,\n",
              " 166,\n",
              " 168,\n",
              " 170,\n",
              " 172,\n",
              " 174,\n",
              " 176,\n",
              " 178,\n",
              " 180,\n",
              " 182,\n",
              " 184,\n",
              " 186,\n",
              " 188,\n",
              " 190,\n",
              " 192,\n",
              " 194,\n",
              " 196,\n",
              " 198,\n",
              " 200,\n",
              " 202,\n",
              " 204,\n",
              " 206,\n",
              " 208,\n",
              " 210,\n",
              " 212,\n",
              " 214,\n",
              " 216,\n",
              " 218,\n",
              " 220,\n",
              " 222,\n",
              " 224,\n",
              " 226,\n",
              " 228,\n",
              " 230,\n",
              " 232,\n",
              " 234,\n",
              " 236,\n",
              " 238,\n",
              " 240,\n",
              " 242,\n",
              " 244,\n",
              " 246,\n",
              " 248,\n",
              " 250,\n",
              " 252,\n",
              " 254,\n",
              " 256,\n",
              " 258,\n",
              " 260,\n",
              " 262,\n",
              " 264,\n",
              " 266,\n",
              " 268,\n",
              " 270,\n",
              " 272,\n",
              " 274,\n",
              " 276,\n",
              " 278,\n",
              " 280,\n",
              " 282,\n",
              " 284,\n",
              " 286,\n",
              " 288,\n",
              " 290,\n",
              " 292,\n",
              " 294,\n",
              " 296,\n",
              " 298,\n",
              " 300,\n",
              " 302,\n",
              " 304,\n",
              " 306,\n",
              " 308,\n",
              " 310,\n",
              " 312,\n",
              " 314,\n",
              " 316,\n",
              " 318,\n",
              " 320,\n",
              " 322,\n",
              " 324,\n",
              " 326,\n",
              " 328,\n",
              " 330,\n",
              " 332,\n",
              " 334,\n",
              " 336,\n",
              " 338,\n",
              " 340,\n",
              " 342,\n",
              " 344,\n",
              " 346,\n",
              " 348,\n",
              " 350,\n",
              " 352,\n",
              " 354,\n",
              " 356,\n",
              " 358,\n",
              " 360,\n",
              " 362,\n",
              " 364,\n",
              " 366,\n",
              " 368,\n",
              " 370,\n",
              " 372,\n",
              " 374,\n",
              " 376,\n",
              " 378,\n",
              " 380,\n",
              " 382,\n",
              " 384,\n",
              " 386,\n",
              " 388,\n",
              " 390,\n",
              " 392,\n",
              " 394,\n",
              " 396,\n",
              " 398,\n",
              " 400,\n",
              " 402,\n",
              " 404,\n",
              " 406,\n",
              " 408,\n",
              " 410,\n",
              " 412,\n",
              " 414,\n",
              " 416,\n",
              " 418,\n",
              " 420,\n",
              " 422,\n",
              " 424,\n",
              " 426,\n",
              " 428,\n",
              " 430,\n",
              " 432,\n",
              " 434,\n",
              " 436,\n",
              " 438,\n",
              " 440,\n",
              " 442,\n",
              " 444,\n",
              " 446,\n",
              " 448,\n",
              " 450,\n",
              " 452,\n",
              " 454,\n",
              " 456,\n",
              " 458,\n",
              " 460,\n",
              " 462,\n",
              " 464,\n",
              " 466,\n",
              " 468,\n",
              " 470,\n",
              " 472,\n",
              " 474,\n",
              " 476,\n",
              " 478,\n",
              " 480,\n",
              " 482,\n",
              " 484,\n",
              " 486,\n",
              " 488,\n",
              " 490,\n",
              " 492,\n",
              " 494,\n",
              " 496,\n",
              " 498)"
            ]
          },
          "metadata": {},
          "execution_count": 91
        }
      ]
    },
    {
      "cell_type": "markdown",
      "metadata": {
        "id": "8Fk5LzjepW6e"
      },
      "source": [
        "## Conjunto"
      ]
    },
    {
      "cell_type": "code",
      "metadata": {
        "id": "Yqx7menVk4ZS"
      },
      "source": [
        "conjunto = set([1,1,1,1,1,1,2,3,'abc'])"
      ],
      "execution_count": null,
      "outputs": []
    },
    {
      "cell_type": "code",
      "metadata": {
        "colab": {
          "base_uri": "https://localhost:8080/"
        },
        "id": "viaea_Z7qtyU",
        "outputId": "01dd5f60-918c-440f-ac8f-cca35bbd46bf"
      },
      "source": [
        "conjunto"
      ],
      "execution_count": null,
      "outputs": [
        {
          "output_type": "execute_result",
          "data": {
            "text/plain": [
              "{1, 2, 3, 'abc'}"
            ]
          },
          "metadata": {},
          "execution_count": 70
        }
      ]
    },
    {
      "cell_type": "code",
      "metadata": {
        "colab": {
          "base_uri": "https://localhost:8080/",
          "height": 171
        },
        "id": "hp0E9dYMqzm1",
        "outputId": "f52caab9-1eb8-4b38-dbaa-218450963c97"
      },
      "source": [
        "conjunto.add([1,2,3])"
      ],
      "execution_count": null,
      "outputs": [
        {
          "output_type": "error",
          "ename": "TypeError",
          "evalue": "ignored",
          "traceback": [
            "\u001b[0;31m---------------------------------------------------------------------------\u001b[0m",
            "\u001b[0;31mTypeError\u001b[0m                                 Traceback (most recent call last)",
            "\u001b[0;32m<ipython-input-74-0a715d985888>\u001b[0m in \u001b[0;36m<module>\u001b[0;34m()\u001b[0m\n\u001b[0;32m----> 1\u001b[0;31m \u001b[0mconjunto\u001b[0m\u001b[0;34m.\u001b[0m\u001b[0madd\u001b[0m\u001b[0;34m(\u001b[0m\u001b[0;34m[\u001b[0m\u001b[0;36m1\u001b[0m\u001b[0;34m,\u001b[0m\u001b[0;36m2\u001b[0m\u001b[0;34m,\u001b[0m\u001b[0;36m3\u001b[0m\u001b[0;34m]\u001b[0m\u001b[0;34m)\u001b[0m\u001b[0;34m\u001b[0m\u001b[0;34m\u001b[0m\u001b[0m\n\u001b[0m",
            "\u001b[0;31mTypeError\u001b[0m: unhashable type: 'list'"
          ]
        }
      ]
    },
    {
      "cell_type": "code",
      "metadata": {
        "id": "0xI9P10urQLm"
      },
      "source": [
        "conjunto.add(('a','b','c'))"
      ],
      "execution_count": null,
      "outputs": []
    },
    {
      "cell_type": "code",
      "metadata": {
        "colab": {
          "base_uri": "https://localhost:8080/",
          "height": 171
        },
        "id": "5p8yoWvrrUXa",
        "outputId": "f3cf9e42-4bd4-49eb-9e39-c0dc69ca38a8"
      },
      "source": [
        "conjunto.add(('a','b',[1,2]))"
      ],
      "execution_count": null,
      "outputs": [
        {
          "output_type": "error",
          "ename": "TypeError",
          "evalue": "ignored",
          "traceback": [
            "\u001b[0;31m---------------------------------------------------------------------------\u001b[0m",
            "\u001b[0;31mTypeError\u001b[0m                                 Traceback (most recent call last)",
            "\u001b[0;32m<ipython-input-76-9b6afe77514f>\u001b[0m in \u001b[0;36m<module>\u001b[0;34m()\u001b[0m\n\u001b[0;32m----> 1\u001b[0;31m \u001b[0mconjunto\u001b[0m\u001b[0;34m.\u001b[0m\u001b[0madd\u001b[0m\u001b[0;34m(\u001b[0m\u001b[0;34m(\u001b[0m\u001b[0;34m'a'\u001b[0m\u001b[0;34m,\u001b[0m\u001b[0;34m'b'\u001b[0m\u001b[0;34m,\u001b[0m\u001b[0;34m[\u001b[0m\u001b[0;36m1\u001b[0m\u001b[0;34m,\u001b[0m\u001b[0;36m2\u001b[0m\u001b[0;34m]\u001b[0m\u001b[0;34m)\u001b[0m\u001b[0;34m)\u001b[0m\u001b[0;34m\u001b[0m\u001b[0;34m\u001b[0m\u001b[0m\n\u001b[0m",
            "\u001b[0;31mTypeError\u001b[0m: unhashable type: 'list'"
          ]
        }
      ]
    },
    {
      "cell_type": "code",
      "metadata": {
        "colab": {
          "base_uri": "https://localhost:8080/",
          "height": 171
        },
        "id": "UttGJHWerz9s",
        "outputId": "48e11d8c-2391-49a9-c5a3-0710846c734b"
      },
      "source": [
        "conjunto.add({1,2,3})"
      ],
      "execution_count": null,
      "outputs": [
        {
          "output_type": "error",
          "ename": "TypeError",
          "evalue": "ignored",
          "traceback": [
            "\u001b[0;31m---------------------------------------------------------------------------\u001b[0m",
            "\u001b[0;31mTypeError\u001b[0m                                 Traceback (most recent call last)",
            "\u001b[0;32m<ipython-input-77-bca9c2a5bd10>\u001b[0m in \u001b[0;36m<module>\u001b[0;34m()\u001b[0m\n\u001b[0;32m----> 1\u001b[0;31m \u001b[0mconjunto\u001b[0m\u001b[0;34m.\u001b[0m\u001b[0madd\u001b[0m\u001b[0;34m(\u001b[0m\u001b[0;34m{\u001b[0m\u001b[0;36m1\u001b[0m\u001b[0;34m,\u001b[0m\u001b[0;36m2\u001b[0m\u001b[0;34m,\u001b[0m\u001b[0;36m3\u001b[0m\u001b[0;34m}\u001b[0m\u001b[0;34m)\u001b[0m\u001b[0;34m\u001b[0m\u001b[0;34m\u001b[0m\u001b[0m\n\u001b[0m",
            "\u001b[0;31mTypeError\u001b[0m: unhashable type: 'set'"
          ]
        }
      ]
    },
    {
      "cell_type": "code",
      "metadata": {
        "colab": {
          "base_uri": "https://localhost:8080/"
        },
        "id": "UdhTY2Pcr-px",
        "outputId": "2fe42fe0-317f-4fa5-dffc-b8a66662e850"
      },
      "source": [
        "{1,2,3}&{3,4,5}"
      ],
      "execution_count": null,
      "outputs": [
        {
          "output_type": "execute_result",
          "data": {
            "text/plain": [
              "{3}"
            ]
          },
          "metadata": {},
          "execution_count": 78
        }
      ]
    },
    {
      "cell_type": "code",
      "metadata": {
        "colab": {
          "base_uri": "https://localhost:8080/"
        },
        "id": "9_2TXdG3sIsa",
        "outputId": "4a893a70-72d7-4c72-e2cf-b50d7a344814"
      },
      "source": [
        "{'a','b','c',1}&{'c','d',1,2,3}"
      ],
      "execution_count": null,
      "outputs": [
        {
          "output_type": "execute_result",
          "data": {
            "text/plain": [
              "{1, 'c'}"
            ]
          },
          "metadata": {},
          "execution_count": 80
        }
      ]
    },
    {
      "cell_type": "code",
      "metadata": {
        "colab": {
          "base_uri": "https://localhost:8080/"
        },
        "id": "uGybVFA4sTpG",
        "outputId": "21b130d7-48ce-4a9d-c28c-49692fa82290"
      },
      "source": [
        "{1,2,3}|{5,6,7}"
      ],
      "execution_count": null,
      "outputs": [
        {
          "output_type": "execute_result",
          "data": {
            "text/plain": [
              "{1, 2, 3, 5, 6, 7}"
            ]
          },
          "metadata": {},
          "execution_count": 81
        }
      ]
    },
    {
      "cell_type": "code",
      "metadata": {
        "colab": {
          "base_uri": "https://localhost:8080/"
        },
        "id": "9_uCghg_seCK",
        "outputId": "597a594a-3170-46e4-b3d2-f9d5492eb92a"
      },
      "source": [
        "{1,2,3}-{3,4,5}"
      ],
      "execution_count": null,
      "outputs": [
        {
          "output_type": "execute_result",
          "data": {
            "text/plain": [
              "{1, 2}"
            ]
          },
          "metadata": {},
          "execution_count": 82
        }
      ]
    },
    {
      "cell_type": "code",
      "metadata": {
        "colab": {
          "base_uri": "https://localhost:8080/"
        },
        "id": "rYaa85a3smPP",
        "outputId": "40c9a8c6-f544-4c9d-d920-77e053548182"
      },
      "source": [
        "{1,2,3}^{3,4,5}"
      ],
      "execution_count": null,
      "outputs": [
        {
          "output_type": "execute_result",
          "data": {
            "text/plain": [
              "{1, 2, 4, 5}"
            ]
          },
          "metadata": {},
          "execution_count": 84
        }
      ]
    },
    {
      "cell_type": "code",
      "metadata": {
        "id": "kxRQo2not0fo"
      },
      "source": [
        "cj1 = {x/3 for x in range(500) if x%2==0}"
      ],
      "execution_count": null,
      "outputs": []
    },
    {
      "cell_type": "code",
      "metadata": {
        "colab": {
          "base_uri": "https://localhost:8080/"
        },
        "id": "tREOCjwjt4b2",
        "outputId": "04f9ff64-b6a9-472f-b344-ae164dd8cf43"
      },
      "source": [
        "cj1"
      ],
      "execution_count": null,
      "outputs": [
        {
          "output_type": "execute_result",
          "data": {
            "text/plain": [
              "{0.0,\n",
              " 0.6666666666666666,\n",
              " 1.3333333333333333,\n",
              " 2.0,\n",
              " 2.6666666666666665,\n",
              " 3.3333333333333335,\n",
              " 4.0,\n",
              " 4.666666666666667,\n",
              " 5.333333333333333,\n",
              " 6.0,\n",
              " 6.666666666666667,\n",
              " 7.333333333333333,\n",
              " 8.0,\n",
              " 8.666666666666666,\n",
              " 9.333333333333334,\n",
              " 10.0,\n",
              " 10.666666666666666,\n",
              " 11.333333333333334,\n",
              " 12.0,\n",
              " 12.666666666666666,\n",
              " 13.333333333333334,\n",
              " 14.0,\n",
              " 14.666666666666666,\n",
              " 15.333333333333334,\n",
              " 16.0,\n",
              " 16.666666666666668,\n",
              " 17.333333333333332,\n",
              " 18.0,\n",
              " 18.666666666666668,\n",
              " 19.333333333333332,\n",
              " 20.0,\n",
              " 20.666666666666668,\n",
              " 21.333333333333332,\n",
              " 22.0,\n",
              " 22.666666666666668,\n",
              " 23.333333333333332,\n",
              " 24.0,\n",
              " 24.666666666666668,\n",
              " 25.333333333333332,\n",
              " 26.0,\n",
              " 26.666666666666668,\n",
              " 27.333333333333332,\n",
              " 28.0,\n",
              " 28.666666666666668,\n",
              " 29.333333333333332,\n",
              " 30.0,\n",
              " 30.666666666666668,\n",
              " 31.333333333333332,\n",
              " 32.0,\n",
              " 32.666666666666664,\n",
              " 33.333333333333336,\n",
              " 34.0,\n",
              " 34.666666666666664,\n",
              " 35.333333333333336,\n",
              " 36.0,\n",
              " 36.666666666666664,\n",
              " 37.333333333333336,\n",
              " 38.0,\n",
              " 38.666666666666664,\n",
              " 39.333333333333336,\n",
              " 40.0,\n",
              " 40.666666666666664,\n",
              " 41.333333333333336,\n",
              " 42.0,\n",
              " 42.666666666666664,\n",
              " 43.333333333333336,\n",
              " 44.0,\n",
              " 44.666666666666664,\n",
              " 45.333333333333336,\n",
              " 46.0,\n",
              " 46.666666666666664,\n",
              " 47.333333333333336,\n",
              " 48.0,\n",
              " 48.666666666666664,\n",
              " 49.333333333333336,\n",
              " 50.0,\n",
              " 50.666666666666664,\n",
              " 51.333333333333336,\n",
              " 52.0,\n",
              " 52.666666666666664,\n",
              " 53.333333333333336,\n",
              " 54.0,\n",
              " 54.666666666666664,\n",
              " 55.333333333333336,\n",
              " 56.0,\n",
              " 56.666666666666664,\n",
              " 57.333333333333336,\n",
              " 58.0,\n",
              " 58.666666666666664,\n",
              " 59.333333333333336,\n",
              " 60.0,\n",
              " 60.666666666666664,\n",
              " 61.333333333333336,\n",
              " 62.0,\n",
              " 62.666666666666664,\n",
              " 63.333333333333336,\n",
              " 64.0,\n",
              " 64.66666666666667,\n",
              " 65.33333333333333,\n",
              " 66.0,\n",
              " 66.66666666666667,\n",
              " 67.33333333333333,\n",
              " 68.0,\n",
              " 68.66666666666667,\n",
              " 69.33333333333333,\n",
              " 70.0,\n",
              " 70.66666666666667,\n",
              " 71.33333333333333,\n",
              " 72.0,\n",
              " 72.66666666666667,\n",
              " 73.33333333333333,\n",
              " 74.0,\n",
              " 74.66666666666667,\n",
              " 75.33333333333333,\n",
              " 76.0,\n",
              " 76.66666666666667,\n",
              " 77.33333333333333,\n",
              " 78.0,\n",
              " 78.66666666666667,\n",
              " 79.33333333333333,\n",
              " 80.0,\n",
              " 80.66666666666667,\n",
              " 81.33333333333333,\n",
              " 82.0,\n",
              " 82.66666666666667,\n",
              " 83.33333333333333,\n",
              " 84.0,\n",
              " 84.66666666666667,\n",
              " 85.33333333333333,\n",
              " 86.0,\n",
              " 86.66666666666667,\n",
              " 87.33333333333333,\n",
              " 88.0,\n",
              " 88.66666666666667,\n",
              " 89.33333333333333,\n",
              " 90.0,\n",
              " 90.66666666666667,\n",
              " 91.33333333333333,\n",
              " 92.0,\n",
              " 92.66666666666667,\n",
              " 93.33333333333333,\n",
              " 94.0,\n",
              " 94.66666666666667,\n",
              " 95.33333333333333,\n",
              " 96.0,\n",
              " 96.66666666666667,\n",
              " 97.33333333333333,\n",
              " 98.0,\n",
              " 98.66666666666667,\n",
              " 99.33333333333333,\n",
              " 100.0,\n",
              " 100.66666666666667,\n",
              " 101.33333333333333,\n",
              " 102.0,\n",
              " 102.66666666666667,\n",
              " 103.33333333333333,\n",
              " 104.0,\n",
              " 104.66666666666667,\n",
              " 105.33333333333333,\n",
              " 106.0,\n",
              " 106.66666666666667,\n",
              " 107.33333333333333,\n",
              " 108.0,\n",
              " 108.66666666666667,\n",
              " 109.33333333333333,\n",
              " 110.0,\n",
              " 110.66666666666667,\n",
              " 111.33333333333333,\n",
              " 112.0,\n",
              " 112.66666666666667,\n",
              " 113.33333333333333,\n",
              " 114.0,\n",
              " 114.66666666666667,\n",
              " 115.33333333333333,\n",
              " 116.0,\n",
              " 116.66666666666667,\n",
              " 117.33333333333333,\n",
              " 118.0,\n",
              " 118.66666666666667,\n",
              " 119.33333333333333,\n",
              " 120.0,\n",
              " 120.66666666666667,\n",
              " 121.33333333333333,\n",
              " 122.0,\n",
              " 122.66666666666667,\n",
              " 123.33333333333333,\n",
              " 124.0,\n",
              " 124.66666666666667,\n",
              " 125.33333333333333,\n",
              " 126.0,\n",
              " 126.66666666666667,\n",
              " 127.33333333333333,\n",
              " 128.0,\n",
              " 128.66666666666666,\n",
              " 129.33333333333334,\n",
              " 130.0,\n",
              " 130.66666666666666,\n",
              " 131.33333333333334,\n",
              " 132.0,\n",
              " 132.66666666666666,\n",
              " 133.33333333333334,\n",
              " 134.0,\n",
              " 134.66666666666666,\n",
              " 135.33333333333334,\n",
              " 136.0,\n",
              " 136.66666666666666,\n",
              " 137.33333333333334,\n",
              " 138.0,\n",
              " 138.66666666666666,\n",
              " 139.33333333333334,\n",
              " 140.0,\n",
              " 140.66666666666666,\n",
              " 141.33333333333334,\n",
              " 142.0,\n",
              " 142.66666666666666,\n",
              " 143.33333333333334,\n",
              " 144.0,\n",
              " 144.66666666666666,\n",
              " 145.33333333333334,\n",
              " 146.0,\n",
              " 146.66666666666666,\n",
              " 147.33333333333334,\n",
              " 148.0,\n",
              " 148.66666666666666,\n",
              " 149.33333333333334,\n",
              " 150.0,\n",
              " 150.66666666666666,\n",
              " 151.33333333333334,\n",
              " 152.0,\n",
              " 152.66666666666666,\n",
              " 153.33333333333334,\n",
              " 154.0,\n",
              " 154.66666666666666,\n",
              " 155.33333333333334,\n",
              " 156.0,\n",
              " 156.66666666666666,\n",
              " 157.33333333333334,\n",
              " 158.0,\n",
              " 158.66666666666666,\n",
              " 159.33333333333334,\n",
              " 160.0,\n",
              " 160.66666666666666,\n",
              " 161.33333333333334,\n",
              " 162.0,\n",
              " 162.66666666666666,\n",
              " 163.33333333333334,\n",
              " 164.0,\n",
              " 164.66666666666666,\n",
              " 165.33333333333334,\n",
              " 166.0}"
            ]
          },
          "metadata": {},
          "execution_count": 95
        }
      ]
    },
    {
      "cell_type": "markdown",
      "metadata": {
        "id": "grmSRNm9qlOH"
      },
      "source": [
        "## Diccionario"
      ]
    },
    {
      "cell_type": "code",
      "metadata": {
        "id": "Kwfs6r27k5w7"
      },
      "source": [
        "diccionario = {'alice':1, 'bob':2, 'charlie':3, 'd':[1,2,3], (1,2,3):{0:1, 'a':1}}"
      ],
      "execution_count": null,
      "outputs": []
    },
    {
      "cell_type": "code",
      "metadata": {
        "colab": {
          "base_uri": "https://localhost:8080/"
        },
        "id": "92seeQdAuWro",
        "outputId": "3b597474-13ca-4aeb-aa8f-2cd97643603b"
      },
      "source": [
        "diccionario"
      ],
      "execution_count": null,
      "outputs": [
        {
          "output_type": "execute_result",
          "data": {
            "text/plain": [
              "{(1, 2, 3): {0: 1, 'a': 1}, 'alice': 1, 'bob': 2, 'charlie': 3, 'd': [1, 2, 3]}"
            ]
          },
          "metadata": {},
          "execution_count": 110
        }
      ]
    },
    {
      "cell_type": "code",
      "metadata": {
        "colab": {
          "base_uri": "https://localhost:8080/"
        },
        "id": "-InoKFibuXt9",
        "outputId": "b336ad1a-240e-458f-f7fb-2833317344c2"
      },
      "source": [
        "diccionario[(1,2,3)]"
      ],
      "execution_count": null,
      "outputs": [
        {
          "output_type": "execute_result",
          "data": {
            "text/plain": [
              "{0: 1, 'a': 1}"
            ]
          },
          "metadata": {},
          "execution_count": 112
        }
      ]
    },
    {
      "cell_type": "code",
      "metadata": {
        "id": "IYa3pvawuf68"
      },
      "source": [
        "d2 = {k:v for k in ['a', 'b', 'c'] for v in range(4,7)}"
      ],
      "execution_count": null,
      "outputs": []
    },
    {
      "cell_type": "code",
      "metadata": {
        "colab": {
          "base_uri": "https://localhost:8080/"
        },
        "id": "9AVdJJRDvgYn",
        "outputId": "fb8e9ed6-fece-4554-d459-65d841e8a7d2"
      },
      "source": [
        "d2"
      ],
      "execution_count": null,
      "outputs": [
        {
          "output_type": "execute_result",
          "data": {
            "text/plain": [
              "{'a': 6, 'b': 6, 'c': 6}"
            ]
          },
          "metadata": {},
          "execution_count": 114
        }
      ]
    },
    {
      "cell_type": "code",
      "metadata": {
        "id": "qTK8Dy41vhS5"
      },
      "source": [
        "d3 = {k:v for k in {'a', 'b', 'c'} for v in {0,3,4}}"
      ],
      "execution_count": null,
      "outputs": []
    },
    {
      "cell_type": "code",
      "metadata": {
        "id": "KjUkRlqrvouW"
      },
      "source": [
        "d4 = {}\n",
        "\n",
        "for k in {'a', 'b', 'c'}:\n",
        "  for v in {0, 3, 4}:\n",
        "    d4[k] = v"
      ],
      "execution_count": null,
      "outputs": []
    },
    {
      "cell_type": "code",
      "metadata": {
        "colab": {
          "base_uri": "https://localhost:8080/"
        },
        "id": "Crpou_fTwGWl",
        "outputId": "a4b645ce-6d12-4340-e1bf-bdebaeb04149"
      },
      "source": [
        "d3"
      ],
      "execution_count": null,
      "outputs": [
        {
          "output_type": "execute_result",
          "data": {
            "text/plain": [
              "{'a': 4, 'b': 4, 'c': 4}"
            ]
          },
          "metadata": {},
          "execution_count": 125
        }
      ]
    },
    {
      "cell_type": "code",
      "metadata": {
        "colab": {
          "base_uri": "https://localhost:8080/"
        },
        "id": "9NlZyZeEvpuw",
        "outputId": "41f1928c-ae55-481d-bc9e-7d893635d717"
      },
      "source": [
        "d4"
      ],
      "execution_count": null,
      "outputs": [
        {
          "output_type": "execute_result",
          "data": {
            "text/plain": [
              "{'a': 4, 'b': 4, 'c': 4}"
            ]
          },
          "metadata": {},
          "execution_count": 126
        }
      ]
    },
    {
      "cell_type": "code",
      "metadata": {
        "id": "gG_qYozKwUWe"
      },
      "source": [
        "d5 = {t[0]:t[1] for t in zip(['a', 'b', 'c'],[0,3,4])}"
      ],
      "execution_count": null,
      "outputs": []
    },
    {
      "cell_type": "code",
      "metadata": {
        "colab": {
          "base_uri": "https://localhost:8080/"
        },
        "id": "X2LmJ-xRw-u1",
        "outputId": "c9260e35-1a02-4074-deea-bca199ee9862"
      },
      "source": [
        "d5"
      ],
      "execution_count": null,
      "outputs": [
        {
          "output_type": "execute_result",
          "data": {
            "text/plain": [
              "{'a': 0, 'b': 3, 'c': 4}"
            ]
          },
          "metadata": {},
          "execution_count": 130
        }
      ]
    },
    {
      "cell_type": "code",
      "metadata": {
        "colab": {
          "base_uri": "https://localhost:8080/"
        },
        "id": "V3_BkFi7w_Wo",
        "outputId": "a504bcb8-cbce-461c-dc86-d9c81684c902"
      },
      "source": [
        "for i in range(4):\n",
        "  print(i)"
      ],
      "execution_count": null,
      "outputs": [
        {
          "output_type": "stream",
          "name": "stdout",
          "text": [
            "0\n",
            "1\n",
            "2\n",
            "3\n"
          ]
        }
      ]
    },
    {
      "cell_type": "code",
      "metadata": {
        "colab": {
          "base_uri": "https://localhost:8080/"
        },
        "id": "uFH31PiJxi1L",
        "outputId": "6122dc83-c7e0-41d8-adc6-b38c3616b15e"
      },
      "source": [
        "for i in range(3,10):\n",
        "  print(i)"
      ],
      "execution_count": null,
      "outputs": [
        {
          "output_type": "stream",
          "name": "stdout",
          "text": [
            "3\n",
            "4\n",
            "5\n",
            "6\n",
            "7\n",
            "8\n",
            "9\n"
          ]
        }
      ]
    },
    {
      "cell_type": "code",
      "metadata": {
        "colab": {
          "base_uri": "https://localhost:8080/"
        },
        "id": "bYgekbFgxruM",
        "outputId": "13e7035e-883e-40ab-8406-cee5f5f611b4"
      },
      "source": [
        "for i in range(5,27,4):\n",
        "  print(i)"
      ],
      "execution_count": null,
      "outputs": [
        {
          "output_type": "stream",
          "name": "stdout",
          "text": [
            "5\n",
            "9\n",
            "13\n",
            "17\n",
            "21\n",
            "25\n"
          ]
        }
      ]
    },
    {
      "cell_type": "code",
      "metadata": {
        "colab": {
          "base_uri": "https://localhost:8080/"
        },
        "id": "Q2FavqwYyJqD",
        "outputId": "e013614b-f002-4d3e-c49f-ae32ae22161b"
      },
      "source": [
        "for a in 'soy una cadena de texto':\n",
        "  print(a)"
      ],
      "execution_count": null,
      "outputs": [
        {
          "output_type": "stream",
          "name": "stdout",
          "text": [
            "s\n",
            "o\n",
            "y\n",
            " \n",
            "u\n",
            "n\n",
            "a\n",
            " \n",
            "c\n",
            "a\n",
            "d\n",
            "e\n",
            "n\n",
            "a\n",
            " \n",
            "d\n",
            "e\n",
            " \n",
            "t\n",
            "e\n",
            "x\n",
            "t\n",
            "o\n"
          ]
        }
      ]
    },
    {
      "cell_type": "code",
      "metadata": {
        "id": "q-C0N0nEyn24"
      },
      "source": [
        "lista = [x*2 for x in range(10)]"
      ],
      "execution_count": null,
      "outputs": []
    },
    {
      "cell_type": "code",
      "metadata": {
        "colab": {
          "base_uri": "https://localhost:8080/"
        },
        "id": "l-mlt-BFyyfO",
        "outputId": "68b32e55-5289-4dcd-bc5e-65d3f0113246"
      },
      "source": [
        "lista"
      ],
      "execution_count": null,
      "outputs": [
        {
          "output_type": "execute_result",
          "data": {
            "text/plain": [
              "[0, 2, 4, 6, 8, 10, 12, 14, 16, 18]"
            ]
          },
          "metadata": {},
          "execution_count": 137
        }
      ]
    },
    {
      "cell_type": "code",
      "metadata": {
        "colab": {
          "base_uri": "https://localhost:8080/"
        },
        "id": "87y2bh0AyzUl",
        "outputId": "c062d86a-2d64-4b0a-8ea6-2160a978879f"
      },
      "source": [
        "lista[2:7]"
      ],
      "execution_count": null,
      "outputs": [
        {
          "output_type": "execute_result",
          "data": {
            "text/plain": [
              "[4, 6, 8, 10, 12]"
            ]
          },
          "metadata": {},
          "execution_count": 139
        }
      ]
    },
    {
      "cell_type": "code",
      "metadata": {
        "colab": {
          "base_uri": "https://localhost:8080/"
        },
        "id": "z5_pmZGiy1Xc",
        "outputId": "21b25482-f812-4bf2-f0c9-764250c56f2a"
      },
      "source": [
        "lista[:7]"
      ],
      "execution_count": null,
      "outputs": [
        {
          "output_type": "execute_result",
          "data": {
            "text/plain": [
              "[0, 2, 4, 6, 8, 10, 12]"
            ]
          },
          "metadata": {},
          "execution_count": 140
        }
      ]
    },
    {
      "cell_type": "code",
      "metadata": {
        "colab": {
          "base_uri": "https://localhost:8080/"
        },
        "id": "vrKTyGJXzAGj",
        "outputId": "da2e3ab7-4901-4048-962a-11cfbd5c30a9"
      },
      "source": [
        "lista[2:]"
      ],
      "execution_count": null,
      "outputs": [
        {
          "output_type": "execute_result",
          "data": {
            "text/plain": [
              "[4, 6, 8, 10, 12, 14, 16, 18]"
            ]
          },
          "metadata": {},
          "execution_count": 141
        }
      ]
    },
    {
      "cell_type": "code",
      "metadata": {
        "colab": {
          "base_uri": "https://localhost:8080/"
        },
        "id": "bqMs60O7zCRe",
        "outputId": "9da76b0a-a4bb-419f-e173-3aad86e17196"
      },
      "source": [
        "lista[2:7:3]"
      ],
      "execution_count": null,
      "outputs": [
        {
          "output_type": "execute_result",
          "data": {
            "text/plain": [
              "[4, 10]"
            ]
          },
          "metadata": {},
          "execution_count": 144
        }
      ]
    },
    {
      "cell_type": "code",
      "metadata": {
        "colab": {
          "base_uri": "https://localhost:8080/"
        },
        "id": "I7ytqqFwzF4t",
        "outputId": "d11cb02a-8ba2-4384-82fb-f6e5dcd01a1a"
      },
      "source": [
        "lista[::-1]"
      ],
      "execution_count": null,
      "outputs": [
        {
          "output_type": "execute_result",
          "data": {
            "text/plain": [
              "[18, 16, 14, 12, 10, 8, 6, 4, 2, 0]"
            ]
          },
          "metadata": {},
          "execution_count": 145
        }
      ]
    },
    {
      "cell_type": "code",
      "metadata": {
        "colab": {
          "base_uri": "https://localhost:8080/",
          "height": 36
        },
        "id": "YMFV0KLIzRC2",
        "outputId": "e628733b-56fc-4563-d769-309b297311ac"
      },
      "source": [
        "'soy una cadena de texto'[::-1]"
      ],
      "execution_count": null,
      "outputs": [
        {
          "output_type": "execute_result",
          "data": {
            "application/vnd.google.colaboratory.intrinsic+json": {
              "type": "string"
            },
            "text/plain": [
              "'otxet ed anedac anu yos'"
            ]
          },
          "metadata": {},
          "execution_count": 146
        }
      ]
    },
    {
      "cell_type": "code",
      "metadata": {
        "colab": {
          "base_uri": "https://localhost:8080/"
        },
        "id": "Wv5ssU7YzY6P",
        "outputId": "0f2ab22e-3cd5-4f86-f114-ba516da328a2"
      },
      "source": [
        "for a in 'soy una cadena de texto'[::-1]:\n",
        "  print(a)"
      ],
      "execution_count": null,
      "outputs": [
        {
          "output_type": "stream",
          "name": "stdout",
          "text": [
            "o\n",
            "t\n",
            "x\n",
            "e\n",
            "t\n",
            " \n",
            "e\n",
            "d\n",
            " \n",
            "a\n",
            "n\n",
            "e\n",
            "d\n",
            "a\n",
            "c\n",
            " \n",
            "a\n",
            "n\n",
            "u\n",
            " \n",
            "y\n",
            "o\n",
            "s\n"
          ]
        }
      ]
    },
    {
      "cell_type": "code",
      "metadata": {
        "colab": {
          "base_uri": "https://localhost:8080/"
        },
        "id": "yLB0JgQ7zb1X",
        "outputId": "39867de4-0f26-4c98-8fc9-7ee0283088e9"
      },
      "source": [
        "lista[-1]"
      ],
      "execution_count": null,
      "outputs": [
        {
          "output_type": "execute_result",
          "data": {
            "text/plain": [
              "18"
            ]
          },
          "metadata": {},
          "execution_count": 148
        }
      ]
    },
    {
      "cell_type": "code",
      "metadata": {
        "id": "hxcgDB-Azw8C"
      },
      "source": [
        "tupla = tuple(x*2 for x in range(10))"
      ],
      "execution_count": null,
      "outputs": []
    },
    {
      "cell_type": "code",
      "metadata": {
        "colab": {
          "base_uri": "https://localhost:8080/"
        },
        "id": "sDG_-AQHz2em",
        "outputId": "22a59b2d-e9cb-403f-97d2-84463a494c67"
      },
      "source": [
        "tupla[2:7]"
      ],
      "execution_count": null,
      "outputs": [
        {
          "output_type": "execute_result",
          "data": {
            "text/plain": [
              "(4, 6, 8, 10, 12)"
            ]
          },
          "metadata": {},
          "execution_count": 153
        }
      ]
    },
    {
      "cell_type": "code",
      "metadata": {
        "colab": {
          "base_uri": "https://localhost:8080/"
        },
        "id": "XCJzLQuP0HWv",
        "outputId": "bbe45f49-7768-4778-fd84-b6a1d4394b5e"
      },
      "source": [
        "tupla[6:1:-1]"
      ],
      "execution_count": null,
      "outputs": [
        {
          "output_type": "execute_result",
          "data": {
            "text/plain": [
              "(12, 10, 8, 6, 4)"
            ]
          },
          "metadata": {},
          "execution_count": 155
        }
      ]
    },
    {
      "cell_type": "code",
      "metadata": {
        "colab": {
          "base_uri": "https://localhost:8080/"
        },
        "id": "kIfByltJ0LWJ",
        "outputId": "828e2919-1924-42d9-9656-c5734a14c7cf"
      },
      "source": [
        "'abc'=='abc'"
      ],
      "execution_count": null,
      "outputs": [
        {
          "output_type": "execute_result",
          "data": {
            "text/plain": [
              "True"
            ]
          },
          "metadata": {},
          "execution_count": 156
        }
      ]
    },
    {
      "cell_type": "code",
      "metadata": {
        "colab": {
          "base_uri": "https://localhost:8080/"
        },
        "id": "u3NsVmL5056n",
        "outputId": "5aeebc53-aeb7-46de-cf10-0740c76eec14"
      },
      "source": [
        "cadena = 'anitalavalatina'\n",
        "cadena==cadena[::-1]"
      ],
      "execution_count": null,
      "outputs": [
        {
          "output_type": "execute_result",
          "data": {
            "text/plain": [
              "True"
            ]
          },
          "metadata": {},
          "execution_count": 157
        }
      ]
    }
  ]
}